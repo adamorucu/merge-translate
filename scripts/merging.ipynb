{
 "cells": [
  {
   "cell_type": "code",
   "execution_count": 2,
   "metadata": {},
   "outputs": [
    {
     "name": "stdout",
     "output_type": "stream",
     "text": [
      "Overwriting config.yaml\n"
     ]
    }
   ],
   "source": [
    "%%writefile config.yaml\n",
    "models:\n",
    "  # - model: malhajar/Llama-2-7b-chat-tr # Turkish\n",
    "  - model: Trendyol/Trendyol-LLM-7b-chat-v0.1\n",
    "    parameters:\n",
    "      density: [0.5, 0.5, 0.5] # density gradient\n",
    "      weight: 0.5\n",
    "  - model: swap-uniba/LLaMAntino-2-chat-7b-hf-UltraChat-ITA # Italian\n",
    "    parameters:\n",
    "      density: 0.5\n",
    "      weight: [0.5, 0.5, 0.5, 0.5] # weight gradient\n",
    "merge_method: ties\n",
    "base_model: NousResearch/Llama-2-7b-chat-hf\n",
    "parameters:\n",
    "  normalize: true\n",
    "  int8_mask: true\n",
    "dtype: float16\n"
   ]
  },
  {
   "cell_type": "code",
   "execution_count": 3,
   "metadata": {},
   "outputs": [
    {
     "name": "stdout",
     "output_type": "stream",
     "text": [
      "Overwriting config.yaml\n"
     ]
    }
   ],
   "source": [
    "%%writefile config.yaml\n",
    "models:\n",
    "  # - model: malhajar/Llama-2-7b-chat-tr # Turkish\n",
    "  - model: Trendyol/Trendyol-LLM-7b-chat-v0.1\n",
    "  - model: swap-uniba/LLaMAntino-2-chat-7b-hf-UltraChat-ITA # Italian\n",
    "merge_method: slerp\n",
    "# base_model: psmathur/orca_mini_v3_13b\n",
    "# base_model: malhajar/Llama-2-7b-chat-tr # Turkish\n",
    "base_model: Trendyol/Trendyol-LLM-7b-chat-v0.1\n",
    "parameters:\n",
    "  t:\n",
    "    - filter: self_attn\n",
    "      value: [0, 0.5, 0.3, 0.7, 1]\n",
    "    - filter: mlp\n",
    "      value: [1, 0.5, 0.7, 0.3, 0]\n",
    "    - value: 0.5 # fallback for rest of tensors\n",
    "dtype: float16"
   ]
  },
  {
   "cell_type": "code",
   "execution_count": null,
   "metadata": {},
   "outputs": [
    {
     "name": "stdout",
     "output_type": "stream",
     "text": [
      "/home/adam/miniconda3/envs/myenv/lib/python3.9/site-packages/huggingface_hub/file_download.py:1132: FutureWarning: `resume_download` is deprecated and will be removed in version 1.0.0. Downloads always resume when possible. If you want to force a new download, use `force_download=True`.\n",
      "  warnings.warn(\n",
      "Warmup loader cache:   0%|                                | 0/2 [00:00<?, ?it/s]\n",
      "Fetching 11 files: 100%|█████████████████████| 11/11 [00:00<00:00, 11999.31it/s]\u001b[A\n",
      "Warmup loader cache:  50%|████████████            | 1/2 [00:00<00:00,  3.63it/s]\n",
      "Fetching 12 files: 100%|█████████████████████| 12/12 [00:00<00:00, 76029.68it/s]\u001b[A\n",
      "Warmup loader cache: 100%|████████████████████████| 2/2 [00:00<00:00,  3.64it/s]\n",
      "Executing graph:   0%|                                 | 0/1457 [00:00<?, ?it/s]WARNING:root:Using common submatrix of size torch.Size([32000, 4096]) for lm_head.weight\n",
      "Executing graph:   0%|                         | 7/1457 [00:01<04:17,  5.64it/s]WARNING:root:Using common submatrix of size torch.Size([32000, 4096]) for model.embed_tokens.weight\n",
      "Executing graph: 100%|██████████████████████| 1457/1457 [01:20<00:00, 18.20it/s]\n"
     ]
    }
   ],
   "source": [
    "!mergekit-yaml config.yaml ./merged_model --cuda"
   ]
  },
  {
   "cell_type": "code",
   "execution_count": 3,
   "metadata": {},
   "outputs": [
    {
     "name": "stderr",
     "output_type": "stream",
     "text": [
      "Loading checkpoint shards:   0%|          | 0/3 [00:00<?, ?it/s]"
     ]
    },
    {
     "ename": "",
     "evalue": "",
     "output_type": "error",
     "traceback": [
      "\u001b[1;31mThe Kernel crashed while executing code in the current cell or a previous cell. \n",
      "\u001b[1;31mPlease review the code in the cell(s) to identify a possible cause of the failure. \n",
      "\u001b[1;31mClick <a href='https://aka.ms/vscodeJupyterKernelCrash'>here</a> for more info. \n",
      "\u001b[1;31mView Jupyter <a href='command:jupyter.viewOutput'>log</a> for further details."
     ]
    }
   ],
   "source": [
    "from transformers import AutoTokenizer, AutoModelForCausalLM\n",
    "from transformers import AutoModelForCausalLM, LlamaTokenizer, pipeline\n",
    "\n",
    "model_path = \"merged_model\"  # Change this to your actual model path\n",
    "\n",
    "# Load the tokenizer\n",
    "tokenizer = AutoTokenizer.from_pretrained(model_path)\n",
    "\n",
    "# Load the model\n",
    "model = AutoModelForCausalLM.from_pretrained(model_path)\n",
    "\n",
    "# Test the model\n",
    "input_text = \"Once upon a time\"\n",
    "inputs = tokenizer(input_text, return_tensors=\"pt\")\n",
    "outputs = model.generate(inputs[\"input_ids\"])\n",
    "\n",
    "# Decode the generated text\n",
    "generated_text = tokenizer.decode(outputs[0], skip_special_tokens=True)\n",
    "print(generated_text)"
   ]
  },
  {
   "cell_type": "code",
   "execution_count": 6,
   "metadata": {},
   "outputs": [
    {
     "ename": "NameError",
     "evalue": "name 'model' is not defined",
     "output_type": "error",
     "traceback": [
      "\u001b[0;31m---------------------------------------------------------------------------\u001b[0m",
      "\u001b[0;31mNameError\u001b[0m                                 Traceback (most recent call last)",
      "Cell \u001b[0;32mIn[6], line 6\u001b[0m\n\u001b[1;32m      1\u001b[0m \u001b[38;5;28;01mfrom\u001b[39;00m \u001b[38;5;21;01mtransformers\u001b[39;00m \u001b[38;5;28;01mimport\u001b[39;00m AutoModelForCausalLM, LlamaTokenizer, pipeline\n\u001b[1;32m      3\u001b[0m sampling_params \u001b[38;5;241m=\u001b[39m \u001b[38;5;28mdict\u001b[39m(do_sample\u001b[38;5;241m=\u001b[39m\u001b[38;5;28;01mTrue\u001b[39;00m, temperature\u001b[38;5;241m=\u001b[39m\u001b[38;5;241m0.3\u001b[39m, top_k\u001b[38;5;241m=\u001b[39m\u001b[38;5;241m50\u001b[39m, top_p\u001b[38;5;241m=\u001b[39m\u001b[38;5;241m0.9\u001b[39m)\n\u001b[1;32m      5\u001b[0m pipe \u001b[38;5;241m=\u001b[39m pipeline(\u001b[38;5;124m\"\u001b[39m\u001b[38;5;124mtext-generation\u001b[39m\u001b[38;5;124m\"\u001b[39m,\n\u001b[0;32m----> 6\u001b[0m                 model\u001b[38;5;241m=\u001b[39m\u001b[43mmodel\u001b[49m,\n\u001b[1;32m      7\u001b[0m                 tokenizer\u001b[38;5;241m=\u001b[39mtokenizer,\n\u001b[1;32m      8\u001b[0m                 device_map\u001b[38;5;241m=\u001b[39m\u001b[38;5;124m\"\u001b[39m\u001b[38;5;124mauto\u001b[39m\u001b[38;5;124m\"\u001b[39m,\n\u001b[1;32m      9\u001b[0m                 max_new_tokens\u001b[38;5;241m=\u001b[39m\u001b[38;5;241m64\u001b[39m,\n\u001b[1;32m     10\u001b[0m                 return_full_text\u001b[38;5;241m=\u001b[39m\u001b[38;5;28;01mTrue\u001b[39;00m,\n\u001b[1;32m     11\u001b[0m                 repetition_penalty\u001b[38;5;241m=\u001b[39m\u001b[38;5;241m1.1\u001b[39m\n\u001b[1;32m     12\u001b[0m                )\n\u001b[1;32m     14\u001b[0m DEFAULT_SYSTEM_PROMPT \u001b[38;5;241m=\u001b[39m \u001b[38;5;124m\"\u001b[39m\u001b[38;5;124mSen yardımcı bir asistansın ve sana verilen talimatlar doğrultusunda en iyi cevabı üretmeye çalışacaksın.\u001b[39m\u001b[38;5;130;01m\\n\u001b[39;00m\u001b[38;5;124m\"\u001b[39m\n\u001b[1;32m     16\u001b[0m TEMPLATE \u001b[38;5;241m=\u001b[39m (\n\u001b[1;32m     17\u001b[0m     \u001b[38;5;124m\"\u001b[39m\u001b[38;5;124m[INST] <<SYS>>\u001b[39m\u001b[38;5;130;01m\\n\u001b[39;00m\u001b[38;5;124m\"\u001b[39m\n\u001b[1;32m     18\u001b[0m     \u001b[38;5;124m\"\u001b[39m\u001b[38;5;132;01m{system_prompt}\u001b[39;00m\u001b[38;5;130;01m\\n\u001b[39;00m\u001b[38;5;124m\"\u001b[39m\n\u001b[1;32m     19\u001b[0m     \u001b[38;5;124m\"\u001b[39m\u001b[38;5;124m<</SYS>>\u001b[39m\u001b[38;5;130;01m\\n\u001b[39;00m\u001b[38;5;130;01m\\n\u001b[39;00m\u001b[38;5;124m\"\u001b[39m\n\u001b[1;32m     20\u001b[0m     \u001b[38;5;124m\"\u001b[39m\u001b[38;5;132;01m{instruction}\u001b[39;00m\u001b[38;5;124m [/INST]\u001b[39m\u001b[38;5;124m\"\u001b[39m\n\u001b[1;32m     21\u001b[0m )\n",
      "\u001b[0;31mNameError\u001b[0m: name 'model' is not defined"
     ]
    }
   ],
   "source": [
    "\n",
    "sampling_params = dict(do_sample=True, temperature=0.3, top_k=50, top_p=0.9)\n",
    "\n",
    "pipe = pipeline(\"text-generation\",\n",
    "                model=model,\n",
    "                tokenizer=tokenizer,\n",
    "                device_map=\"auto\",\n",
    "                max_new_tokens=64,\n",
    "                return_full_text=True,\n",
    "                repetition_penalty=1.1\n",
    "               )\n",
    "\n",
    "DEFAULT_SYSTEM_PROMPT = \"Sen yardımcı bir asistansın ve sana verilen talimatlar doğrultusunda en iyi cevabı üretmeye çalışacaksın.\\n\"\n",
    "\n",
    "TEMPLATE = (\n",
    "    \"[INST] <<SYS>>\\n\"\n",
    "    \"{system_prompt}\\n\"\n",
    "    \"<</SYS>>\\n\\n\"\n",
    "    \"{instruction} [/INST]\"\n",
    ")\n",
    "\n",
    "def generate_prompt(instruction, system_prompt=DEFAULT_SYSTEM_PROMPT):\n",
    "    return TEMPLATE.format_map({'instruction': instruction,'system_prompt': system_prompt})\n",
    "\n",
    "def generate_output(user_query, sys_prompt=DEFAULT_SYSTEM_PROMPT):\n",
    "    prompt = generate_prompt(user_query, sys_prompt)\n",
    "    outputs = pipe(prompt,\n",
    "               **sampling_params\n",
    "              )\n",
    "    return outputs[0][\"generated_text\"].split(\"[/INST]\")[-1]\n",
    "\n",
    "instructions = \"\"\"Sen yardımcı bir asistansın ve sana verilen talimatlar doğrultusunda en iyi cevabı üretmeye çalışacaksın. Görevin sana verilen cümleleri ingilizce diline tercüme etmek. Birkaç tane örnek:\n",
    "1.\tHaberler onu üzdü.\t-\tLa notizia l'ha resa triste.\n",
    "2.\tÇok şarap içmiyorum.\t-\tNon bevo molto vino.\n",
    "3.\tNancy onu bir partiye çağırdı.\t-\tNancy lo invitò ad una festa.\n",
    "4.\tÇok fazla yersen şişmanlarsın.\t-\tMangiando troppo si ingrassa.\n",
    "Bundan sonra sana verilen her cümleyi italyanca diline tercüme et:\"\"\"\n",
    "\n",
    "user_query = \"Benim bir evim var.\"\n",
    "\n",
    "response = generate_output(f\"{instructions} {user_query}\")\n",
    "print(response)"
   ]
  },
  {
   "cell_type": "code",
   "execution_count": null,
   "metadata": {},
   "outputs": [],
   "source": []
  }
 ],
 "metadata": {
  "kernelspec": {
   "display_name": "myenv",
   "language": "python",
   "name": "python3"
  },
  "language_info": {
   "codemirror_mode": {
    "name": "ipython",
    "version": 3
   },
   "file_extension": ".py",
   "mimetype": "text/x-python",
   "name": "python",
   "nbconvert_exporter": "python",
   "pygments_lexer": "ipython3",
   "version": "3.9.19"
  }
 },
 "nbformat": 4,
 "nbformat_minor": 2
}
